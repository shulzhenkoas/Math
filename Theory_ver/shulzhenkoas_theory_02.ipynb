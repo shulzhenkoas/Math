{
 "cells": [
  {
   "cell_type": "code",
   "execution_count": 1,
   "metadata": {},
   "outputs": [],
   "source": [
    "import numpy as np"
   ]
  },
  {
   "cell_type": "markdown",
   "metadata": {},
   "source": [
    "#### Задание 1.\n",
    "##### Вероятность того, что стрелок попадет в мишень, выстрелив один раз, равна 0.8. Стрелок выстрелил 100 раз. Найдите вероятность того, что стрелок попадет в цель ровно 85 раз."
   ]
  },
  {
   "cell_type": "markdown",
   "metadata": {},
   "source": [
    "Используем формулу Бернулли:\n",
    "$$P_n(X=k) = C_n^k p^k q^{n-k}$$\n",
    ", где  \n",
    "$k = 85$  \n",
    "$p = 0.8$  \n",
    "$n = 100$  \n",
    "$q = 1 - 0.8 = 0.2$  \n",
    " $$P(k=85) = C_n^kp^kq^{n-k} = C_{100}^{85}p^{85}q^{15} = \\frac{100!}{85!(100-85)!} \\cdot 0.8^{85} \\cdot 0.2^{15} = \\frac{100!}{85! \\cdot 15!} \\cdot 0.8^{85} \\cdot 0.2^{15} = 0.048061793700746355$$"
   ]
  },
  {
   "cell_type": "code",
   "execution_count": 52,
   "metadata": {},
   "outputs": [
    {
     "data": {
      "text/plain": [
       "0.048061793700746355"
      ]
     },
     "execution_count": 52,
     "metadata": {},
     "output_type": "execute_result"
    }
   ],
   "source": [
    "k = 85\n",
    "n = 100\n",
    "p = 0.8\n",
    "q = 1 - p\n",
    "np.math.factorial(n) / (np.math.factorial(k) * np.math.factorial(n-k)) * (p ** k) * (q ** (n-k))"
   ]
  },
  {
   "cell_type": "markdown",
   "metadata": {},
   "source": [
    "#### Задание 2.\n",
    "##### Вероятность того, что лампочка перегорит в течение первого дня эксплуатации, равна 0.0004. В жилом комплексе после ремонта в один день включили 5000 новых лампочек. Какова вероятность, что ни одна из них не перегорит в первый день? Какова вероятность, что перегорят ровно две?"
   ]
  },
  {
   "cell_type": "markdown",
   "metadata": {},
   "source": [
    "Так как вероятность того, что лампочка перегорит очень мала, то применим формулу Пуассона:\n",
    "$$P_m \\approx \\frac{\\lambda^m}{m!}e^{-\\lambda}$$\n",
    ", где   \n",
    "$λ = np = 5000 \\cdot 0.0004 = 2$  \n",
    "Вероятность, что перегорят две лампочки (m = 0) будет:\n",
    "$$P_{0} \\approx \\frac{2^0}{0!}e^{-2} \\approx \\frac{1}{1}e^{-2} \\approx 0.1353352832366127$$"
   ]
  },
  {
   "cell_type": "code",
   "execution_count": 47,
   "metadata": {},
   "outputs": [
    {
     "data": {
      "text/plain": [
       "0.1353352832366127"
      ]
     },
     "execution_count": 47,
     "metadata": {},
     "output_type": "execute_result"
    }
   ],
   "source": [
    "n = 5000\n",
    "p = 0.0004\n",
    "lambda_ = n * p\n",
    "m0 = 0\n",
    "\n",
    "(lambda_**m0 / np.math.factorial(m0)) * np.exp(-lambda_)"
   ]
  },
  {
   "cell_type": "markdown",
   "metadata": {},
   "source": [
    "`Если применить формулу Бернулли, то получим:`"
   ]
  },
  {
   "cell_type": "code",
   "execution_count": 46,
   "metadata": {},
   "outputs": [
    {
     "data": {
      "text/plain": [
       "0.13528114551440706"
      ]
     },
     "execution_count": 46,
     "metadata": {},
     "output_type": "execute_result"
    }
   ],
   "source": [
    "np.math.factorial(5000) / (np.math.factorial(0) * np.math.factorial(5000)) * (0.0004 ** 0) * (0.9996 ** 5000)"
   ]
  },
  {
   "cell_type": "markdown",
   "metadata": {},
   "source": [
    "Вероятность, что перегорят две лампочки (m = 2) будет:\n",
    "$$P_{2} \\approx \\frac{2^2}{2!}e^{-2} \\approx \\frac{4}{2}e^{-2} \\approx 0.2706705664732254$$"
   ]
  },
  {
   "cell_type": "code",
   "execution_count": 48,
   "metadata": {},
   "outputs": [
    {
     "data": {
      "text/plain": [
       "0.2706705664732254"
      ]
     },
     "execution_count": 48,
     "metadata": {},
     "output_type": "execute_result"
    }
   ],
   "source": [
    "m2 = 2\n",
    "\n",
    "(lambda_**m2 / np.math.factorial(m2)) * np.exp(-lambda_)"
   ]
  },
  {
   "cell_type": "markdown",
   "metadata": {},
   "source": [
    "`Если применить формулу Бернулли, то получим:`"
   ]
  },
  {
   "cell_type": "code",
   "execution_count": 49,
   "metadata": {},
   "outputs": [
    {
     "data": {
      "text/plain": [
       "0.2707247150266753"
      ]
     },
     "execution_count": 49,
     "metadata": {},
     "output_type": "execute_result"
    }
   ],
   "source": [
    "np.math.factorial(5000) / (np.math.factorial(2) * np.math.factorial(4998)) * (0.0004 ** 2) * (0.9996 ** 4998)"
   ]
  },
  {
   "cell_type": "markdown",
   "metadata": {},
   "source": [
    "`Возможно применение формулы Бернулли для задач этого класса до степени точности 3 знака после запятой?`"
   ]
  },
  {
   "cell_type": "markdown",
   "metadata": {},
   "source": [
    "#### Задание 3.\n",
    "##### Монету подбросили 144 раза. Какова вероятность, что орел выпадет ровно 70 раз?"
   ]
  },
  {
   "cell_type": "markdown",
   "metadata": {},
   "source": [
    "Используем формулу Бернулли:\n",
    "$$P_n(X=k) = C_n^k p^k q^{n-k}$$\n",
    ", где  \n",
    "$k = 70$  \n",
    "$p = 0.5$  \n",
    "$n = 144$  \n",
    "$q = 1 - 0.5 = 0.5$  \n",
    " $$P(k=70) = C_n^kp^kq^{n-k} = C_{144}^{70}p^{70}q^{74} = \\frac{144!}{70!(144-70)!} \\cdot 0.5^{70} \\cdot 0.5^{74} = 0.06281178035144776$$"
   ]
  },
  {
   "cell_type": "code",
   "execution_count": 51,
   "metadata": {},
   "outputs": [
    {
     "data": {
      "text/plain": [
       "0.06281178035144776"
      ]
     },
     "execution_count": 51,
     "metadata": {},
     "output_type": "execute_result"
    }
   ],
   "source": [
    "k = 70\n",
    "n = 144\n",
    "p = 0.5\n",
    "q = 1 - p\n",
    "np.math.factorial(n) / (np.math.factorial(k) * np.math.factorial(n-k)) * (p ** k) * (q ** (n-k))"
   ]
  },
  {
   "cell_type": "markdown",
   "metadata": {},
   "source": [
    "#### Задание 4.\n",
    "##### В первом ящике находится 10 мячей, из которых 7 - белые. Во втором ящике - 11 мячей, из которых 9 белых. Из каждого ящика вытаскивают случайным образом по два мяча. Какова вероятность того, что все мячи белые? Какова вероятность того, что ровно два мяча белые? Какова вероятность того, что хотя бы один мяч белый?"
   ]
  },
  {
   "cell_type": "markdown",
   "metadata": {},
   "source": [
    "Вероятность вытащить первый белый мяч из первого ящика: $\\frac{7}{10}$  \n",
    "Вероятность вытащить второй белый мяч из первого ящика: $\\frac{6}{9}$  \n",
    "Вероятность вытащить первый белый мяч из второго ящика: $\\frac{9}{11}$  \n",
    "Вероятность вытащить второй белый мяч из второго ящика: $\\frac{8}{10}$\n",
    "\n",
    "Так как это 4 независимых события, которые должны произойти совместно, то вероятность, что все 4 мяча белые будет:\n",
    "$$\\frac{7}{10} \\cdot \\frac{6}{9} \\cdot \\frac{9}{11} \\cdot \\frac{8}{10} = 0.3054545454545454$$"
   ]
  },
  {
   "cell_type": "code",
   "execution_count": 60,
   "metadata": {},
   "outputs": [
    {
     "data": {
      "text/plain": [
       "0.3054545454545454"
      ]
     },
     "execution_count": 60,
     "metadata": {},
     "output_type": "execute_result"
    }
   ],
   "source": [
    "(7 / 10)* (6 / 9) * (9 / 11) * (8 / 10)"
   ]
  },
  {
   "cell_type": "markdown",
   "metadata": {},
   "source": [
    "Для нахождения вероятности того, что ровно два из вынутых мяча будут белые, воспользуемся формулой вероятности для трех совместных независимых событий:\n",
    "$$P(A + B + C) = P(A) + P(B) + P(C) - P(A*B) - P(A*C) - P(B*C) + P(A*B*C)$$\n",
    ", где  \n",
    "P(A) - вероятность вытащить два белых мяча из первого ящика: $\\frac{7}{10} \\cdot \\frac{6}{9}$  \n",
    "P(B) - вероятность вытащить два белых мяча из второго ящика: $\\frac{9}{11} \\cdot \\frac{8}{10}$  \n",
    "P(C) - вероятность вытащить по одному белому мячу из каждого ящика: $\\frac{7}{10} \\cdot \\frac{9}{11}$\n",
    "\n",
    "Примечание: вероятность P(C) посчитана только для одного случая, когда мы с первой попытки вытаскиваем из каждой коробки по одному белому мячу, но есть и другие варианты, где белый мяч вытаскивается со второй попытки, причем вероятность его вытащить будет меняться. Эту общую вероятность мне посчитать не удалось.\n",
    "\n",
    "Значит:  \n",
    "$$\\frac{7}{10} \\cdot \\frac{6}{9} + \\frac{9}{11} \\cdot \\frac{8}{10} + \\frac{7}{10} \\cdot \\frac{9}{11} - \\frac{7}{10} \\cdot \\frac{6}{9} \\cdot \\frac{9}{11} \\cdot \\frac{8}{10} - \\frac{7}{10} \\cdot \\frac{6}{9} \\cdot \\frac{7}{10} \\cdot \\frac{9}{11} - \\frac{9}{11} \\cdot \\frac{8}{10} \\cdot \\frac{7}{10} \\cdot \\frac{9}{11} + \\frac{7}{10} \\cdot \\frac{6}{9} \\cdot \\frac{9}{11} \\cdot \\frac{8}{10} \\cdot \\frac{7}{10} \\cdot \\frac{9}{11} = 0.9212782369146006$$"
   ]
  },
  {
   "cell_type": "code",
   "execution_count": 74,
   "metadata": {},
   "outputs": [
    {
     "data": {
      "text/plain": [
       "0.9212782369146006"
      ]
     },
     "execution_count": 74,
     "metadata": {},
     "output_type": "execute_result"
    }
   ],
   "source": [
    "pa = (7 / 10) * (6 / 9)\n",
    "pb = (9 / 11) * (8 / 10)\n",
    "pc = (7 / 10) * (9 / 11)\n",
    "pabc = pa + pb + pc - pa * pb - pa * pc - pb * pc + pa * pb * pc\n",
    "pabc"
   ]
  },
  {
   "cell_type": "markdown",
   "metadata": {},
   "source": [
    "`Вероятность того, что хотя бы один мяч белый будет равна \"1 - противоположное событие\", т.е. ни одного белого мяча не вытащили.`\n",
    "\n",
    "Вероятность вытащить первый не белый мяч из первого ящика: $\\frac{3}{10}$  \n",
    "Вероятность вытащить второй не белый мяч из первого ящика: $\\frac{2}{9}$  \n",
    "Вероятность вытащить первый не белый мяч из второго ящика: $\\frac{2}{11}$  \n",
    "Вероятность вытащить второй не белый мяч из второго ящика: $\\frac{1}{10}$\n",
    "\n",
    "Так как это 4 независимых события, которые должны произойти совместно, то вероятность что все 4 мяча не белые будет:\n",
    "$$\\frac{3}{10} \\cdot \\frac{2}{9} \\cdot \\frac{2}{11} \\cdot \\frac{1}{10} = 0.0012121212121212121$$"
   ]
  },
  {
   "cell_type": "code",
   "execution_count": 70,
   "metadata": {},
   "outputs": [
    {
     "data": {
      "text/plain": [
       "0.0012121212121212121"
      ]
     },
     "execution_count": 70,
     "metadata": {},
     "output_type": "execute_result"
    }
   ],
   "source": [
    "eggs = (3 / 10) * (2 / 9) * (2 / 11) * (1 / 10)\n",
    "eggs"
   ]
  },
  {
   "cell_type": "markdown",
   "metadata": {},
   "source": [
    "Значит вероятность вытащить хотя бы один белый мяч будет:"
   ]
  },
  {
   "cell_type": "code",
   "execution_count": 71,
   "metadata": {},
   "outputs": [
    {
     "data": {
      "text/plain": [
       "0.9987878787878788"
      ]
     },
     "execution_count": 71,
     "metadata": {},
     "output_type": "execute_result"
    }
   ],
   "source": [
    "1 - eggs"
   ]
  }
 ],
 "metadata": {
  "kernelspec": {
   "display_name": "Python 3",
   "language": "python",
   "name": "python3"
  },
  "language_info": {
   "codemirror_mode": {
    "name": "ipython",
    "version": 3
   },
   "file_extension": ".py",
   "mimetype": "text/x-python",
   "name": "python",
   "nbconvert_exporter": "python",
   "pygments_lexer": "ipython3",
   "version": "3.7.1"
  }
 },
 "nbformat": 4,
 "nbformat_minor": 2
}
