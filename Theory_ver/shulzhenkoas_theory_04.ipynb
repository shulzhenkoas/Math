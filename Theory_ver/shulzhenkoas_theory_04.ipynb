{
 "cells": [
  {
   "cell_type": "code",
   "execution_count": 1,
   "metadata": {},
   "outputs": [],
   "source": [
    "import numpy as np"
   ]
  },
  {
   "cell_type": "markdown",
   "metadata": {},
   "source": [
    "#### Задание 1.\n",
    "##### Случайная непрерывная величина A имеет равномерное распределение на промежутке (200, 800]. Найдите ее среднее значение и дисперсию."
   ]
  },
  {
   "cell_type": "markdown",
   "metadata": {},
   "source": [
    "Математическое ожидание = среднее значение случайной величины: \n",
    "$$M(X) = \\frac{a+b}{2}$$"
   ]
  },
  {
   "cell_type": "code",
   "execution_count": 2,
   "metadata": {},
   "outputs": [
    {
     "data": {
      "text/plain": [
       "500.0"
      ]
     },
     "execution_count": 2,
     "metadata": {},
     "output_type": "execute_result"
    }
   ],
   "source": [
    "mxa = (200 + 800) / 2\n",
    "mxa"
   ]
  },
  {
   "cell_type": "markdown",
   "metadata": {},
   "source": [
    "Дисперсия: \n",
    "$$D(X) = \\frac{(b-a)^2}{12}$$"
   ]
  },
  {
   "cell_type": "code",
   "execution_count": 3,
   "metadata": {},
   "outputs": [
    {
     "data": {
      "text/plain": [
       "30000.0"
      ]
     },
     "execution_count": 3,
     "metadata": {},
     "output_type": "execute_result"
    }
   ],
   "source": [
    "dxa = ((800 - 200) ** 2) / 12\n",
    "dxa"
   ]
  },
  {
   "cell_type": "markdown",
   "metadata": {},
   "source": [
    "#### Задание 2.\n",
    "##### О случайной непрерывной равномерно распределенной величине B известно, что ее дисперсия равна 0.2. Можно ли найти правую границу величины B и ее среднее значение зная, что левая граница равна 0.5? Если да, найдите ее."
   ]
  },
  {
   "cell_type": "code",
   "execution_count": 4,
   "metadata": {},
   "outputs": [
    {
     "name": "stdout",
     "output_type": "stream",
     "text": [
      "Правая граница величины \"B\": 2.049193338482967\n"
     ]
    }
   ],
   "source": [
    "dxb = 0.2\n",
    "ab = 0.5\n",
    "bb = np.sqrt(dxb * 12) + 0.5\n",
    "print('Правая граница величины \"B\":', bb)"
   ]
  },
  {
   "cell_type": "code",
   "execution_count": 5,
   "metadata": {},
   "outputs": [
    {
     "name": "stdout",
     "output_type": "stream",
     "text": [
      "Математическое ожидание величины \"B\": 1.2745966692414834\n"
     ]
    }
   ],
   "source": [
    "mxb = (ab + bb) / 2\n",
    "print('Математическое ожидание величины \"B\":', mxb)"
   ]
  },
  {
   "cell_type": "markdown",
   "metadata": {},
   "source": [
    "#### Задание 3.\n",
    "##### Непрерывная случайная величина X распределена нормально и задана плотностью распределения\n",
    "$$f(x) = \\frac{1}{\\sigma \\sqrt{2 \\pi}} \\cdot e ^ {- \\frac{(x - a)^2}{2 \\sigma^2}}$$\n",
    ",где  \n",
    "$\\sigma = 4$  \n",
    "$a = -2$  \n",
    "`Найдите:\n",
    "а). M(X)\n",
    "б). D(X)\n",
    "в). std(X) (среднее квадратичное отклонение)`"
   ]
  },
  {
   "cell_type": "markdown",
   "metadata": {},
   "source": [
    "Математическое ожидание:\n",
    "$$M(X) = a = -2$$\n",
    "Дисперсия:\n",
    "$$D(X) = \\sigma ^ 2 = 4 ^2 = 16$$ \n",
    "Cреднее квадратичное отклонение:\n",
    "$$std(X) = \\sigma = 4$$"
   ]
  },
  {
   "cell_type": "markdown",
   "metadata": {},
   "source": [
    "#### Задание 4.\n",
    "##### Рост взрослого населения города X имеет нормальное распределение. Причем, средний рост равен 174 см, а среднее квадратичное отклонение равно 8 см. Какова вероятность того, что случайным образом выбранный взрослый человек имеет рост:\n",
    "Средний рост = математическое ожидание:  \n",
    "$M(X) = 174$  \n",
    "Cреднее квадратичное отклонение:  \n",
    "$std(X) = \\sigma = 8$\n",
    "\n",
    "Из урока:  \n",
    "от $-1\\sigma$ до $1\\sigma$ = 68%  \n",
    "от $-2\\sigma$ до $2\\sigma$ = 95,4%  \n",
    "от $-3\\sigma$ до $3\\sigma$ = 99,72%"
   ]
  },
  {
   "cell_type": "code",
   "execution_count": 6,
   "metadata": {},
   "outputs": [
    {
     "name": "stdout",
     "output_type": "stream",
     "text": [
      "Вероятность, что рост будет больше  1.0 sigma = 16.0 %\n"
     ]
    }
   ],
   "source": [
    "# а). больше 182 см\n",
    "print('Вероятность, что рост будет больше ', (182 - 174) / 8, 'sigma =', (100 - 68) / 2, '%')"
   ]
  },
  {
   "cell_type": "code",
   "execution_count": 7,
   "metadata": {},
   "outputs": [
    {
     "name": "stdout",
     "output_type": "stream",
     "text": [
      "Вероятность, что рост будет больше  2.0 sigma = 2.299999999999997 %\n"
     ]
    }
   ],
   "source": [
    "# б). больше 190 см\n",
    "print('Вероятность, что рост будет больше ', (190 - 174) / 8, 'sigma =', (100 - 95.4) / 2, '%')"
   ]
  },
  {
   "cell_type": "code",
   "execution_count": 8,
   "metadata": {},
   "outputs": [
    {
     "name": "stdout",
     "output_type": "stream",
     "text": [
      "Вероятность, что рост будет больше  -1.0 sigma и меньше  2.0 sigma = 81.7 %\n"
     ]
    }
   ],
   "source": [
    "# в). от 166 см до 190 см\n",
    "print('Вероятность, что рост будет больше ', (166 - 174) / 8, 'sigma и меньше ', (190 - 174) / 8, 'sigma =', 68 + (95.4 - 68) / 2, '%')"
   ]
  },
  {
   "cell_type": "code",
   "execution_count": 9,
   "metadata": {},
   "outputs": [
    {
     "name": "stdout",
     "output_type": "stream",
     "text": [
      "Вероятность, что рост будет больше  -1.0 sigma и меньше  1.0 sigma = 68 %\n"
     ]
    }
   ],
   "source": [
    "# г). от 166 см до 182 см\n",
    "print('Вероятность, что рост будет больше ', (166 - 174) / 8, 'sigma и меньше ', (182 - 174) / 8, 'sigma =', 68 , '%')"
   ]
  },
  {
   "cell_type": "code",
   "execution_count": 10,
   "metadata": {},
   "outputs": [
    {
     "name": "stdout",
     "output_type": "stream",
     "text": [
      "Вероятность, что рост будет больше  -2.0 sigma и меньше  2.0 sigma = 95.4 %\n"
     ]
    }
   ],
   "source": [
    "# д). от 158 см до 190 см\n",
    "print('Вероятность, что рост будет больше ', (158 - 174) / 8, 'sigma и меньше ', (190 - 174) / 8, 'sigma =', 95.4 , '%')"
   ]
  },
  {
   "cell_type": "code",
   "execution_count": 11,
   "metadata": {},
   "outputs": [
    {
     "name": "stdout",
     "output_type": "stream",
     "text": [
      "Вероятность, что рост будет меньше  -3.0 sigma и больше  2.0 sigma = 2.4399999999999977 %\n"
     ]
    }
   ],
   "source": [
    "# е). не выше 150 см или не ниже 190 см\n",
    "print('Вероятность, что рост будет меньше ', (150 - 174) / 8, 'sigma и больше ', (190 - 174) / 8, 'sigma =', (100 - 99.72) + (99.72 - 95.4) / 2 , '%')"
   ]
  },
  {
   "cell_type": "code",
   "execution_count": 12,
   "metadata": {},
   "outputs": [
    {
     "name": "stdout",
     "output_type": "stream",
     "text": [
      "Вероятность, что рост будет меньше  -3.0 sigma и больше  3.0 sigma = 0.28000000000000114 %\n"
     ]
    }
   ],
   "source": [
    "# ё). не выше 150 см или не ниже 198 см\n",
    "print('Вероятность, что рост будет меньше ', (150 - 174) / 8, 'sigma и больше ', (198 - 174) / 8, 'sigma =', 100 - 99.72 , '%')"
   ]
  },
  {
   "cell_type": "code",
   "execution_count": 13,
   "metadata": {},
   "outputs": [
    {
     "name": "stdout",
     "output_type": "stream",
     "text": [
      "Вероятность, что рост будет меньше  -1.0 sigma = 16.0 %\n"
     ]
    }
   ],
   "source": [
    "# ж). ниже 166 см.\n",
    "print('Вероятность, что рост будет меньше ', (166 - 174) / 8, 'sigma =', (100 - 68) / 2, '%')"
   ]
  },
  {
   "cell_type": "markdown",
   "metadata": {},
   "source": [
    "#### Задание 5.\n",
    "##### На сколько сигм (средних квадратичных отклонений) отклоняется рост человека, равный 190 см, от математического ожидания роста в популяции, в которой M(X) = 178 см и D(X) = 25 кв.см?"
   ]
  },
  {
   "cell_type": "markdown",
   "metadata": {},
   "source": [
    "$M(X) = 178$  \n",
    "$D(X) = \\sigma ^ 2 = 25 => \\sigma = \\sqrt{25} = 5$\n",
    "\n",
    "Ответ:\n",
    "$\\frac {190 - 178}{5} = 2.4$"
   ]
  },
  {
   "cell_type": "code",
   "execution_count": 14,
   "metadata": {},
   "outputs": [
    {
     "data": {
      "text/plain": [
       "2.4"
      ]
     },
     "execution_count": 14,
     "metadata": {},
     "output_type": "execute_result"
    }
   ],
   "source": [
    "(190-178)/5"
   ]
  }
 ],
 "metadata": {
  "kernelspec": {
   "display_name": "Python 3",
   "language": "python",
   "name": "python3"
  },
  "language_info": {
   "codemirror_mode": {
    "name": "ipython",
    "version": 3
   },
   "file_extension": ".py",
   "mimetype": "text/x-python",
   "name": "python",
   "nbconvert_exporter": "python",
   "pygments_lexer": "ipython3",
   "version": "3.7.1"
  }
 },
 "nbformat": 4,
 "nbformat_minor": 2
}
