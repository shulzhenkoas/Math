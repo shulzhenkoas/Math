{
 "cells": [
  {
   "cell_type": "markdown",
   "metadata": {},
   "source": [
    "#### 1. Задание\n",
    "Напишите код, моделирующий выпадение поля в рулетке (с учетом поля зеро)."
   ]
  },
  {
   "cell_type": "code",
   "execution_count": 76,
   "metadata": {},
   "outputs": [],
   "source": [
    "import numpy as np\n",
    "import matplotlib.pyplot as plt\n",
    "import math \n",
    "import random\n",
    "\n",
    "%matplotlib inline\n",
    "\n",
    "import warnings\n",
    "warnings.filterwarnings('ignore')"
   ]
  },
  {
   "cell_type": "code",
   "execution_count": 13,
   "metadata": {},
   "outputs": [
    {
     "name": "stdout",
     "output_type": "stream",
     "text": [
      "5 black\n"
     ]
    }
   ],
   "source": [
    "x = random.randint(0,36)\n",
    "if (x == 0):\n",
    "    print(\"Zero\")\n",
    "elif (x % 2 == 0):\n",
    "    print(x, \"red\")\n",
    "else:\n",
    "    print(x, \"black\")"
   ]
  },
  {
   "cell_type": "markdown",
   "metadata": {},
   "source": [
    "#### 2. Задание\n",
    "1) Напишите код, проверяющий любую из теорем сложения или умножения вероятности на примере подбрасывания монетки."
   ]
  },
  {
   "cell_type": "code",
   "execution_count": 25,
   "metadata": {},
   "outputs": [
    {
     "name": "stdout",
     "output_type": "stream",
     "text": [
      "Орел - 572 Решка - 428\n"
     ]
    },
    {
     "data": {
      "text/plain": [
       "True"
      ]
     },
     "execution_count": 25,
     "metadata": {},
     "output_type": "execute_result"
    }
   ],
   "source": [
    "numb = 1000\n",
    "pa, pb = 0, 0\n",
    "\n",
    "for i in range(0, numb):\n",
    "    x = np.random.uniform(1, 10)\n",
    "    if x < 6:\n",
    "        pa += 1\n",
    "    else:\n",
    "        pb += 1\n",
    "print(\"Орел -\", pa, \"Решка -\", pb)\n",
    "\n",
    "pa/numb + pb/numb == 1"
   ]
  },
  {
   "cell_type": "markdown",
   "metadata": {},
   "source": [
    "2) Сгенерируйте десять выборок случайных чисел х0, …, х9, и постройте гистограмму распределения случайной суммы х0+х1+ …+ х9."
   ]
  },
  {
   "cell_type": "code",
   "execution_count": 40,
   "metadata": {},
   "outputs": [
    {
     "name": "stdout",
     "output_type": "stream",
     "text": [
      "[4.025186113404143, 4.6041748342255, 2.8450586131650413, 4.088792308748146, 5.043469879514445, 5.0218927620082106, 4.4689586146138165, 5.537869619414689, 4.36457620835245, 3.646849423921692]\n"
     ]
    },
    {
     "data": {
      "image/png": "[encoded data removed]",
      "text/plain": [
       "<Figure size 432x288 with 1 Axes>"
      ]
     },
     "metadata": {
      "needs_background": "light"
     },
     "output_type": "display_data"
    }
   ],
   "source": [
    "numb = 10\n",
    "sum_arr = []\n",
    "\n",
    "for i in range (0,numb):\n",
    "    sum = 0\n",
    "    num_arr = np.random.rand(numb)\n",
    "    for n in num_arr:\n",
    "        sum += n\n",
    "    sum_arr.append(sum)\n",
    "n, bins, pathces = plt.hist(sum_arr, bins=numb)\n",
    "print(sum_arr)\n",
    "plt.xlabel('numb')\n",
    "plt.ylabel('Summary')\n",
    "plt.show()"
   ]
  },
  {
   "cell_type": "markdown",
   "metadata": {},
   "source": [
    "#### 3. Задание\n",
    "1) Дополните код Монте-Карло последовательности независимых испытаний расчетом соответствующих вероятностей (через биномиальное распределение) и сравните результаты."
   ]
  },
  {
   "cell_type": "code",
   "execution_count": 72,
   "metadata": {},
   "outputs": [
    {
     "name": "stdout",
     "output_type": "stream",
     "text": [
      "[2 3 1 ... 0 2 1]\n",
      "9992 40000 0.2498\n",
      "4.0 0.25\n"
     ]
    }
   ],
   "source": [
    "k, n, m = 3, 4, 40000\n",
    "x = 0\n",
    "k_sum = 0\n",
    "\n",
    "for i in range(0, n):\n",
    "    arr = np.array(np.random.randint(0, 2, m))\n",
    "    x += arr\n",
    "print(x)\n",
    "\n",
    "for i in range(0, m):\n",
    "    if x[i] == k:\n",
    "        k_sum += 1\n",
    "print(k_sum, m, k_sum/m)  \n",
    "\n",
    "C = math.factorial(n)/(math.factorial(k)*math.factorial(n-k))\n",
    "P = C*1/(2**n)\n",
    "print(C, P)"
   ]
  },
  {
   "cell_type": "markdown",
   "metadata": {},
   "source": [
    "2) Повторите расчеты, взяв другие значения n и k."
   ]
  },
  {
   "cell_type": "code",
   "execution_count": 73,
   "metadata": {},
   "outputs": [
    {
     "name": "stdout",
     "output_type": "stream",
     "text": [
      "[5 6 5 ... 1 4 7]\n",
      "4800 40000 0.12\n",
      "120.0 0.1171875\n"
     ]
    }
   ],
   "source": [
    "k, n, m = 7, 10, 40000\n",
    "x = 0\n",
    "k_sum = 0\n",
    "\n",
    "for i in range(0, n):\n",
    "    arr = np.array(np.random.randint(0, 2, m))\n",
    "    x += arr\n",
    "print(x)\n",
    "\n",
    "for i in range(0, m):\n",
    "    if x[i] == k:\n",
    "        k_sum += 1\n",
    "print(k_sum, m, k_sum/m)  \n",
    "\n",
    "C = math.factorial(n)/(math.factorial(k)*math.factorial(n-k))\n",
    "P = C*1/(2**n)\n",
    "print(C, P)"
   ]
  },
  {
   "cell_type": "markdown",
   "metadata": {},
   "source": [
    "#### 4. Задание\n",
    "Дополните код расчетом коэффициента корреляции x и y по формуле"
   ]
  },
  {
   "cell_type": "code",
   "execution_count": 78,
   "metadata": {},
   "outputs": [
    {
     "name": "stdout",
     "output_type": "stream",
     "text": [
      "0.6933151121030978 0.15243903978743206\n",
      "0.6933151121030974 0.15243903978743228\n"
     ]
    },
    {
     "data": {
      "image/png": "[encoded data removed]",
      "text/plain": [
       "<Figure size 432x288 with 1 Axes>"
      ]
     },
     "metadata": {
      "needs_background": "light"
     },
     "output_type": "display_data"
    }
   ],
   "source": [
    "n = 100\n",
    "r = 0.7\n",
    "\n",
    "x = np.random.rand(n)\n",
    "y = r * x + (1 - r) * np.random.rand(n)\n",
    "\n",
    "plt.plot(x, y, 'o')\n",
    "plt.xlabel('x')\n",
    "plt.ylabel('y')\n",
    "plt.grid(True)\n",
    "\n",
    "a = (np.sum(x) * np.sum(y) - n * np.sum(x * y)) / (np.sum(x) ** 2 - n * np.sum(x ** 2))\n",
    "b = (np.sum(y) - (a * np.sum(x))) / n\n",
    "\n",
    "A = np.vstack([x, np.ones(len(x))]).T\n",
    "a1, b1 = np.linalg.lstsq(A, y)[0]\n",
    "\n",
    "print(a, b)\n",
    "print(a1, b1)\n",
    "\n",
    "plt.plot([0, 1], [b, a + b])\n",
    "plt.show()"
   ]
  },
  {
   "cell_type": "code",
   "execution_count": 83,
   "metadata": {},
   "outputs": [
    {
     "name": "stdout",
     "output_type": "stream",
     "text": [
      "0.9156296892945115\n"
     ]
    }
   ],
   "source": [
    "print(np.corrcoef(x, y)[0, 1])"
   ]
  },
  {
   "cell_type": "code",
   "execution_count": 85,
   "metadata": {},
   "outputs": [
    {
     "name": "stdout",
     "output_type": "stream",
     "text": [
      "0.9156296892945112\n"
     ]
    }
   ],
   "source": [
    "x_aver = np.average(x)\n",
    "y_aver = np.average(y)\n",
    "\n",
    "R = np.sum((x - x_aver) * (y - y_aver)) / np.sqrt(np.sum((x - x_aver) ** 2) * (np.sum((y - y_aver) ** 2)))\n",
    "print(R)"
   ]
  }
 ],
 "metadata": {
  "kernelspec": {
   "display_name": "Python 3",
   "language": "python",
   "name": "python3"
  },
  "language_info": {
   "codemirror_mode": {
    "name": "ipython",
    "version": 3
   },
   "file_extension": ".py",
   "mimetype": "text/x-python",
   "name": "python",
   "nbconvert_exporter": "python",
   "pygments_lexer": "ipython3",
   "version": "3.7.1"
  }
 },
 "nbformat": 4,
 "nbformat_minor": 2
}
