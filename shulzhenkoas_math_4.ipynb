{
 "cells": [
  {
   "cell_type": "markdown",
   "metadata": {},
   "source": [
    "#### 1. Задание\n",
    "Напишите код, моделирующий выпадение поля в рулетке (с учетом поля зеро)."
   ]
  },
  {
   "cell_type": "code",
   "execution_count": 2,
   "metadata": {},
   "outputs": [],
   "source": [
    "import numpy as np\n",
    "import matplotlib.pyplot as plt\n",
    "import math \n",
    "import random"
   ]
  },
  {
   "cell_type": "code",
   "execution_count": 13,
   "metadata": {},
   "outputs": [
    {
     "name": "stdout",
     "output_type": "stream",
     "text": [
      "5 black\n"
     ]
    }
   ],
   "source": [
    "x = random.randint(0,36)\n",
    "if (x == 0):\n",
    "    print(\"Zero\")\n",
    "elif (x % 2 == 0):\n",
    "    print(x, \"red\")\n",
    "else:\n",
    "    print(x, \"black\")"
   ]
  },
  {
   "cell_type": "markdown",
   "metadata": {},
   "source": [
    "#### 2. Задание\n",
    "1) Напишите код, проверяющий любую из теорем сложения или умножения вероятности на примере подбрасывания монетки."
   ]
  },
  {
   "cell_type": "code",
   "execution_count": 25,
   "metadata": {},
   "outputs": [
    {
     "name": "stdout",
     "output_type": "stream",
     "text": [
      "Орел - 572 Решка - 428\n"
     ]
    },
    {
     "data": {
      "text/plain": [
       "True"
      ]
     },
     "execution_count": 25,
     "metadata": {},
     "output_type": "execute_result"
    }
   ],
   "source": [
    "numb = 1000\n",
    "pa, pb = 0, 0\n",
    "\n",
    "for i in range(0, numb):\n",
    "    x = np.random.uniform(1, 10)\n",
    "    if x < 6:\n",
    "        pa += 1\n",
    "    else:\n",
    "        pb += 1\n",
    "print(\"Орел -\", pa, \"Решка -\", pb)\n",
    "\n",
    "pa/numb + pb/numb == 1"
   ]
  },
  {
   "cell_type": "markdown",
   "metadata": {},
   "source": [
    "2) Сгенерируйте десять выборок случайных чисел х0, …, х9, и постройте гистограмму распределения случайной суммы х0+х1+ …+ х9."
   ]
  },
  {
   "cell_type": "code",
   "execution_count": 40,
   "metadata": {},
   "outputs": [
    {
     "name": "stdout",
     "output_type": "stream",
     "text": [
      "[4.025186113404143, 4.6041748342255, 2.8450586131650413, 4.088792308748146, 5.043469879514445, 5.0218927620082106, 4.4689586146138165, 5.537869619414689, 4.36457620835245, 3.646849423921692]\n"
     ]
    },
    {
     "data": {
      "image/png": "[encoded data removed]",
      "text/plain": [
       "<Figure size 432x288 with 1 Axes>"
      ]
     },
     "metadata": {
      "needs_background": "light"
     },
     "output_type": "display_data"
    }
   ],
   "source": [
    "numb = 10\n",
    "sum_arr = []\n",
    "\n",
    "for i in range (0,numb):\n",
    "    sum = 0\n",
    "    num_arr = np.random.rand(numb)\n",
    "    for n in num_arr:\n",
    "        sum += n\n",
    "    sum_arr.append(sum)\n",
    "n, bins, pathces = plt.hist(sum_arr, bins=numb)\n",
    "print(sum_arr)\n",
    "plt.xlabel('numb')\n",
    "plt.ylabel('Summary')\n",
    "plt.show()"
   ]
  },
  {
   "cell_type": "markdown",
   "metadata": {},
   "source": [
    "#### 3. Задание\n",
    "1) Дополните код Монте-Карло последовательности независимых испытаний расчетом соответствующих вероятностей (через биномиальное распределение) и сравните результаты."
   ]
  },
  {
   "cell_type": "code",
   "execution_count": 42,
   "metadata": {},
   "outputs": [
    {
     "name": "stdout",
     "output_type": "stream",
     "text": [
      "15080 40000 0.377\n"
     ]
    }
   ],
   "source": [
    "k, n = 0, 40000\n",
    "a = np.random.randint(0, 2, n)\n",
    "b = np.random.randint(0, 2, n)\n",
    "c = np.random.randint(0, 2, n)\n",
    "d = np.random.randint(0, 2, n)\n",
    "x = a + b + c + d\n",
    "for i in range(0, n):\n",
    "    if x[i] == 2:\n",
    "        k += 1\n",
    "# print(a, b, c, d, x)\n",
    "print(k, n, k/n)"
   ]
  },
  {
   "cell_type": "markdown",
   "metadata": {},
   "source": [
    "2) Повторите расчеты, взяв другие значения n и k."
   ]
  },
  {
   "cell_type": "code",
   "execution_count": 41,
   "metadata": {},
   "outputs": [
    {
     "name": "stdout",
     "output_type": "stream",
     "text": [
      "3731 10000 0.3731\n"
     ]
    }
   ],
   "source": [
    "k, n = 10, 10000\n",
    "a = np.random.randint(0, 2, n)\n",
    "b = np.random.randint(0, 2, n)\n",
    "c = np.random.randint(0, 2, n)\n",
    "d = np.random.randint(0, 2, n)\n",
    "x = a + b + c + d\n",
    "for i in range(0, n):\n",
    "    if x[i] == 2:\n",
    "        k += 1\n",
    "# print(a, b, c, d, x)\n",
    "print(k, n, k/n)"
   ]
  }
 ],
 "metadata": {
  "kernelspec": {
   "display_name": "Python 3",
   "language": "python",
   "name": "python3"
  },
  "language_info": {
   "codemirror_mode": {
    "name": "ipython",
    "version": 3
   },
   "file_extension": ".py",
   "mimetype": "text/x-python",
   "name": "python",
   "nbconvert_exporter": "python",
   "pygments_lexer": "ipython3",
   "version": "3.7.1"
  }
 },
 "nbformat": 4,
 "nbformat_minor": 2
}
