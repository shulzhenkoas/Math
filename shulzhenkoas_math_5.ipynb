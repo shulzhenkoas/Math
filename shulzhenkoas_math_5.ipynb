{
 "cells": [
  {
   "cell_type": "code",
   "execution_count": 3,
   "metadata": {},
   "outputs": [],
   "source": [
    "import numpy as np\n",
    "import matplotlib.pyplot as plt\n",
    "\n",
    "%matplotlib inline"
   ]
  },
  {
   "cell_type": "markdown",
   "metadata": {},
   "source": [
    "### Задание 1.\n",
    "**Вектор – это частный случай матрицы 1хN и Nх1. Повторите материал для векторов, уделяя особое внимание умножению A∙B.**"
   ]
  },
  {
   "cell_type": "code",
   "execution_count": 97,
   "metadata": {},
   "outputs": [
    {
     "name": "stdout",
     "output_type": "stream",
     "text": [
      "(1, 5) (5, 1)\n",
      "\n",
      "При умножении получаем длину вектора:  [[110.]]\n",
      "\n",
      "При умножении получаем матрицу \"5x5\":\n",
      " [[30. 24. 18. 12.  6.]\n",
      " [35. 28. 21. 14.  7.]\n",
      " [40. 32. 24. 16.  8.]\n",
      " [45. 36. 27. 18.  9.]\n",
      " [50. 40. 30. 20. 10.]]\n"
     ]
    }
   ],
   "source": [
    "# Задание мне не понятно. Надеюсь сделал то что нужно.\n",
    "vect_one = np.array([[5], [4], [3], [2], [1]], float).transpose()\n",
    "vect_two = np.array([[6], [7], [8], [9], [10]], float)\n",
    "print(vect_one.shape, vect_two.shape)\n",
    "print('\\nПри умножении получаем длину вектора: ', np.dot(vect_one, vect_two))\n",
    "print('\\nПри умножении получаем матрицу \"5x5\":\\n', np.dot(vect_two, vect_one))"
   ]
  },
  {
   "cell_type": "markdown",
   "metadata": {},
   "source": [
    "**Вычислите, по возможности не используя программирование: (5Е)^(–1), где Е – единичная матрица размера 5х5.**"
   ]
  },
  {
   "cell_type": "code",
   "execution_count": 47,
   "metadata": {},
   "outputs": [
    {
     "name": "stdout",
     "output_type": "stream",
     "text": [
      "Создадим единичную матрицу \"E\":\n",
      "[[1. 0. 0. 0. 0.]\n",
      " [0. 1. 0. 0. 0.]\n",
      " [0. 0. 1. 0. 0.]\n",
      " [0. 0. 0. 1. 0.]\n",
      " [0. 0. 0. 0. 1.]]\n",
      "\n",
      "С помощью Phyton найдем матрицу обратную единичной \"E\":\n",
      "[[1. 0. 0. 0. 0.]\n",
      " [0. 1. 0. 0. 0.]\n",
      " [0. 0. 1. 0. 0.]\n",
      " [0. 0. 0. 1. 0.]\n",
      " [0. 0. 0. 0. 1.]]\n",
      "\n",
      "Как видно выше E**(-1) == E\n",
      "\n",
      "(5E)**(-1) = (5)**(-1) * E**(-1) = 1/5 * E, где \"E\" - единичная матрица:\n",
      "\n",
      "       [1. 0. 0. 0. 0.]     [0.2 0.  0.  0.  0. ]\n",
      "       [0. 1. 0. 0. 0.]     [0.  0.2 0.  0.  0. ]\n",
      "0.2 *  [0. 0. 1. 0. 0.]  =  [0.  0.  0.2 0.  0. ]\n",
      "       [0. 0. 0. 1. 0.]     [0.  0.  0.  0.2 0. ]\n",
      "       [0. 0. 0. 0. 1.]     [0.  0.  0.  0.  0.2]\n"
     ]
    }
   ],
   "source": [
    "print('Создадим единичную матрицу \"E\":')\n",
    "mtx_e = np.identity(5)\n",
    "print(mtx_one)\n",
    "\n",
    "print('\\nС помощью Phyton найдем матрицу обратную единичной \"E\":')\n",
    "print(np.linalg.matrix_power(mtx_one, -1))\n",
    "\n",
    "print('\\nКак видно выше E**(-1) == E')\n",
    "print('\\n(5E)**(-1) = (5)**(-1) * E**(-1) = 1/5 * E, где \"E\" - единичная матрица:\\n')\n",
    "mtx_eggs = 1/5 * mtx_one\n",
    "print('      ', mtx_e[0], '   ', mtx_eggs[0])\n",
    "print('      ', mtx_e[1], '   ', mtx_eggs[1])\n",
    "print('0.2 * ', mtx_e[2], ' = ', mtx_eggs[2])\n",
    "print('      ', mtx_e[3], '   ', mtx_eggs[3])\n",
    "print('      ', mtx_e[4], '   ', mtx_eggs[4])"
   ]
  },
  {
   "cell_type": "markdown",
   "metadata": {},
   "source": [
    "### Задание 2.\n",
    "**Вычислите определитель:**  \n",
    "__| 1 2 3 |  \n",
    "| 4 0 6 |  \n",
    "| 7 8 9 |__"
   ]
  },
  {
   "cell_type": "code",
   "execution_count": 75,
   "metadata": {},
   "outputs": [
    {
     "name": "stdout",
     "output_type": "stream",
     "text": [
      "[[1 2 3]\n",
      " [4 0 6]\n",
      " [7 8 9]]\n"
     ]
    }
   ],
   "source": [
    "mtx = np.array([[1, 2, 3],\n",
    "                [4, 0, 6],\n",
    "                [7, 8, 9]])\n",
    "print(mtx)"
   ]
  },
  {
   "cell_type": "code",
   "execution_count": 96,
   "metadata": {},
   "outputs": [
    {
     "name": "stdout",
     "output_type": "stream",
     "text": [
      "Определитель/детерминант вычисленный численным методом: 59.999999999999986\n"
     ]
    }
   ],
   "source": [
    "print(f'Определитель/детерминант вычисленный численным методом:', np.linalg.det(mtx))"
   ]
  },
  {
   "cell_type": "code",
   "execution_count": 95,
   "metadata": {},
   "outputs": [
    {
     "name": "stdout",
     "output_type": "stream",
     "text": [
      "Определитель/детерминант вычисленный \"вручную\":\n",
      "|1 2 3|        |2 3|       |1 3|       |1 2|\n",
      "|4 0 6| = -4 * |8 9| + 0 * |7 9| - 6 * |7 8| = 60\n",
      "|7 8 9|\n"
     ]
    }
   ],
   "source": [
    "print(f'Определитель/детерминант вычисленный \"вручную\":')\n",
    "det = -4 * (2 * 9 - 8 * 3) - 6 * (1 * 8 - 7 * 2)\n",
    "print(f'|1 2 3|        |2 3|       |1 3|       |1 2|')\n",
    "print(f'|4 0 6| = -4 * |8 9| + 0 * |7 9| - 6 * |7 8| = {det}')\n",
    "print(f'|7 8 9|')"
   ]
  },
  {
   "cell_type": "markdown",
   "metadata": {},
   "source": [
    "### Задание 3.\n",
    "**Вычислите матрицу, обратную данной:**  \n",
    "__| 1 2 3 |  \n",
    "| 4 0 6 |  \n",
    "| 7 8 9 |__"
   ]
  },
  {
   "cell_type": "code",
   "execution_count": 80,
   "metadata": {},
   "outputs": [
    {
     "name": "stdout",
     "output_type": "stream",
     "text": [
      "Находим матрицу миноров \"M\":\n",
      "[[-48  -6  32]\n",
      " [ -6 -12  -6]\n",
      " [ 12  -6  -8]]\n"
     ]
    }
   ],
   "source": [
    "print('Находим матрицу миноров \"M\":')\n",
    "M = np.array([[(0 * 9 - 8 * 6), (4 * 9 - 7 * 6), (4 * 8 - 7 * 0)],\n",
    "              [(2 * 9 - 8 * 3), (1 * 9 - 7 * 3), (1 * 8 - 7 * 2)],\n",
    "              [(2 * 6 - 0 * 3), (1 * 6 - 4 * 3), (1 * 0 - 4 * 2)]])\n",
    "print(M)"
   ]
  },
  {
   "cell_type": "code",
   "execution_count": 87,
   "metadata": {},
   "outputs": [
    {
     "name": "stdout",
     "output_type": "stream",
     "text": [
      "Находим матрицу алгебраическиз дополнений \"Ad\" и транспонируем ее:\n",
      "[[-48   6  12]\n",
      " [  6 -12   6]\n",
      " [ 32   6  -8]]\n"
     ]
    }
   ],
   "source": [
    "print('Находим матрицу алгебраическиз дополнений \"Ad\" и транспонируем ее:')\n",
    "Ad = np.array([[-48, 6, 32],\n",
    "               [6, -12, 6],\n",
    "               [12, 6, -8]]).T\n",
    "print(Ad)"
   ]
  },
  {
   "cell_type": "code",
   "execution_count": 98,
   "metadata": {},
   "outputs": [
    {
     "name": "stdout",
     "output_type": "stream",
     "text": [
      "Находим обратную матрицу:\n",
      "[[-0.8         0.1         0.2       ]\n",
      " [ 0.1        -0.2         0.1       ]\n",
      " [ 0.53333333  0.1        -0.13333333]]\n"
     ]
    }
   ],
   "source": [
    "print('Находим обратную матрицу:')\n",
    "mtx_back = Ad / det\n",
    "print(mtx_back)"
   ]
  },
  {
   "cell_type": "code",
   "execution_count": 99,
   "metadata": {},
   "outputs": [
    {
     "name": "stdout",
     "output_type": "stream",
     "text": [
      "Обратная матрица вычисленная в Python:\n",
      "[[-0.8         0.1         0.2       ]\n",
      " [ 0.1        -0.2         0.1       ]\n",
      " [ 0.53333333  0.1        -0.13333333]]\n"
     ]
    }
   ],
   "source": [
    "print('Обратная матрица вычисленная в Python:')\n",
    "print(np.matrix(mtx).I)\n",
    "#print(np.linalg.matrix_power(mtx, -1))"
   ]
  },
  {
   "cell_type": "markdown",
   "metadata": {},
   "source": [
    "**Приведите пример матрицы 4х4, ранг которой равен 1.**"
   ]
  },
  {
   "cell_type": "code",
   "execution_count": 118,
   "metadata": {},
   "outputs": [
    {
     "name": "stdout",
     "output_type": "stream",
     "text": [
      "Матрица 4x4:\n",
      "[[ 0  1  2  3]\n",
      " [ 0  2  4  6]\n",
      " [ 0  4  8 12]\n",
      " [ 0  8 16 24]]\n",
      "\n",
      "Определитель матрицы равен (вычисленный Phyton):  0.0\n",
      "Ранг матрицы (вычисленный Python): 1\n"
     ]
    }
   ],
   "source": [
    "rank_1 = np.array([[0, 1, 2, 3],\n",
    "                   [0, 2, 4, 6],\n",
    "                   [0, 4, 8, 12],\n",
    "                   [0, 8, 16, 24]])\n",
    "print(f'Матрица 4x4:\\n{rank_1}\\n')\n",
    "print('Определитель матрицы равен (вычисленный Phyton): ', np.linalg.det(b))\n",
    "print('Ранг матрицы (вычисленный Python):', np.linalg.matrix_rank(b, 0.0001))"
   ]
  },
  {
   "cell_type": "markdown",
   "metadata": {},
   "source": [
    "### Задание 4.\n",
    "**Вычислите скалярное произведение двух векторов (1, 5) и (2, 8)**  "
   ]
  },
  {
   "cell_type": "code",
   "execution_count": 5,
   "metadata": {},
   "outputs": [
    {
     "name": "stdout",
     "output_type": "stream",
     "text": [
      "Скалярное произведение векторов (1, 5) и (2, 8) равно:  42.0\n"
     ]
    }
   ],
   "source": [
    "vect_a = np.array([1, 5], float)\n",
    "vect_b = np.array([2, 8], float)\n",
    "print('Скалярное произведение векторов (1, 5) и (2, 8) равно: ', np.inner(vect_a, vect_b))"
   ]
  },
  {
   "cell_type": "code",
   "execution_count": 7,
   "metadata": {},
   "outputs": [
    {
     "data": {
      "image/png": "[encoded data removed]",
      "text/plain": [
       "<Figure size 432x288 with 1 Axes>"
      ]
     },
     "metadata": {
      "needs_background": "light"
     },
     "output_type": "display_data"
    }
   ],
   "source": [
    "plt.quiver(vect_a[0], vect_a[1], angles='xy', scale_units='xy', scale=1)\n",
    "plt.quiver(vect_b[0], vect_b[1], angles='xy', scale_units='xy', scale=1)\n",
    "plt.xlim(-1, 3)\n",
    "plt.ylim(-1, 8)\n",
    "plt.grid(True)\n",
    "plt.show()"
   ]
  },
  {
   "cell_type": "code",
   "execution_count": 138,
   "metadata": {},
   "outputs": [
    {
     "name": "stdout",
     "output_type": "stream",
     "text": [
      "Косинус угла \"alpfa\" равен:  0.9988681377244377\n"
     ]
    }
   ],
   "source": [
    "print('Косинус угла \"alpfa\" равен: ', np.inner(vect_a, vect_b) / (np.linalg.norm(vect_a) * np.linalg.norm(vect_b)))"
   ]
  },
  {
   "cell_type": "markdown",
   "metadata": {},
   "source": [
    "### Задание 5.\n",
    "**Вычислите смешанное произведение трех векторов (1, 5, 0), (2, 8, 7) и (7, 1.5, 3)**"
   ]
  },
  {
   "cell_type": "code",
   "execution_count": 15,
   "metadata": {},
   "outputs": [
    {
     "name": "stdout",
     "output_type": "stream",
     "text": [
      "Смешанное произведение трех векторов равно:\n",
      "228.5\n",
      "-228.5\n"
     ]
    }
   ],
   "source": [
    "vect_c = np.array([1, 5, 0], float)\n",
    "vect_d = np.array([2, 8, 7], float)\n",
    "vect_e = np.array([7, 1.5, 3], float)\n",
    "print('Смешанное произведение трех векторов равно:')\n",
    "print(np.inner(np.cross(vect_e, vect_c), vect_d))\n",
    "print(np.inner(np.cross(vect_c, vect_e), vect_d))\n",
    "# при перестановке векторов в векторном произведении меняется знак векторного произведения."
   ]
  }
 ],
 "metadata": {
  "kernelspec": {
   "display_name": "Python 3",
   "language": "python",
   "name": "python3"
  },
  "language_info": {
   "codemirror_mode": {
    "name": "ipython",
    "version": 3
   },
   "file_extension": ".py",
   "mimetype": "text/x-python",
   "name": "python",
   "nbconvert_exporter": "python",
   "pygments_lexer": "ipython3",
   "version": "3.7.1"
  }
 },
 "nbformat": 4,
 "nbformat_minor": 2
}
