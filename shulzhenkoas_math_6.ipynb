{
 "cells": [
  {
   "cell_type": "code",
   "execution_count": 10,
   "metadata": {},
   "outputs": [],
   "source": [
    "import numpy as np\n",
    "import matplotlib.pyplot as plt\n",
    "\n",
    "%matplotlib inline\n",
    "\n",
    "import warnings\n",
    "warnings.filterwarnings('ignore')"
   ]
  },
  {
   "cell_type": "markdown",
   "metadata": {},
   "source": [
    "### Задание 1.\n",
    "**Решите линейную систему:**  \n",
    "__| 1 2 3 |&nbsp;&nbsp;&nbsp;&nbsp;&nbsp;&nbsp;&nbsp;&nbsp;&nbsp;&nbsp;|12|  \n",
    "| 4 0 6 |&nbsp;*&nbsp;X&nbsp;=&nbsp;| 2|  \n",
    "| 7 8 9 |&nbsp;&nbsp;&nbsp;&nbsp;&nbsp;&nbsp;&nbsp;&nbsp;&nbsp;&nbsp;| 1|__"
   ]
  },
  {
   "cell_type": "code",
   "execution_count": 24,
   "metadata": {},
   "outputs": [
    {
     "name": "stdout",
     "output_type": "stream",
     "text": [
      "[-9.2         0.9         6.46666667]\n"
     ]
    }
   ],
   "source": [
    "mtx_A = np.array([[1, 2, 3], [4, 0, 6], [7, 8, 9]]) \n",
    "mtx_B = np.array([12, 2, 1])\n",
    "print(np.linalg.solve(mtx_A, mtx_B))\n",
    "#np.linalg.lstsq(mtx_A, mtx_B)"
   ]
  },
  {
   "cell_type": "markdown",
   "metadata": {},
   "source": [
    "### Задание 2.\n",
    "**Найдите псевдорешение:**  \n",
    "__x + 2y – z = 1  \n",
    "3x – 4y = 7  \n",
    "8x – 5y + 2z = 12  \n",
    "2x – 5z = 7  \n",
    "11x +4y – 7z = 15__"
   ]
  },
  {
   "cell_type": "code",
   "execution_count": 27,
   "metadata": {},
   "outputs": [
    {
     "data": {
      "text/plain": [
       "(array([ 1.15601029, -0.889718  , -0.85029782]),\n",
       " array([0.66772534]),\n",
       " 3,\n",
       " array([14.89650167, 10.4695886 ,  2.73531577]))"
      ]
     },
     "execution_count": 27,
     "metadata": {},
     "output_type": "execute_result"
    }
   ],
   "source": [
    "mtx_C = np.array([[1, 2, -1], [3, -4, 0], [8, -5, 2], [2, -5, 0], [11, 4, -7]]) \n",
    "mtx_D = np.array([1, 7, 12, 7, 15])\n",
    "#print(np.linalg.lstsq(mtx_C, mtx_D))\n",
    "np.linalg.lstsq(mtx_C, mtx_D)"
   ]
  },
  {
   "cell_type": "code",
   "execution_count": 15,
   "metadata": {},
   "outputs": [
    {
     "data": {
      "text/plain": [
       "0.6677253445282131"
      ]
     },
     "execution_count": 15,
     "metadata": {},
     "output_type": "execute_result"
    }
   ],
   "source": [
    "# Проверка\n",
    "def Q(x, y, z):\n",
    "    return ((np.linalg.norm(np.dot(mtx_C, [x, y, z]) - mtx_D))**2)\n",
    "Q(1.15601029, -0.889718  , -0.85029782)"
   ]
  },
  {
   "cell_type": "markdown",
   "metadata": {},
   "source": [
    "### Задание 3.\n",
    "**Сколько решений имеет линейная система:**  \n",
    "__| 1 2 3 |&nbsp;&nbsp;&nbsp;&nbsp;&nbsp;&nbsp;&nbsp;&nbsp;&nbsp;&nbsp;|12|  \n",
    "| 4 5 6 |&nbsp;*&nbsp;X&nbsp;=&nbsp;| 2|  \n",
    "| 7 8 9 |&nbsp;&nbsp;&nbsp;&nbsp;&nbsp;&nbsp;&nbsp;&nbsp;&nbsp;&nbsp;| 1|__  \n",
    "__Если ноль – то измените вектор правой части так, чтобы система стала совместной, и решите ее.__"
   ]
  },
  {
   "cell_type": "code",
   "execution_count": 69,
   "metadata": {},
   "outputs": [
    {
     "name": "stdout",
     "output_type": "stream",
     "text": [
      "Детерминант матрицы равен:  6.66133814775094e-16\n",
      "Ранк исходной матрицы:  2\n",
      "Ранк расширенной матрицы:  3\n",
      "\n",
      "\"2 != 3\" и \"Детерминант равен 0\" => Данная система не имеет ни одного решения.\n"
     ]
    },
    {
     "data": {
      "text/plain": [
       "(array([[-7.69444444],\n",
       "        [-0.61111111],\n",
       "        [ 6.47222222]]),\n",
       " array([], dtype=float64),\n",
       " 2,\n",
       " array([1.68481034e+01, 1.06836951e+00, 4.41842475e-16]))"
      ]
     },
     "execution_count": 69,
     "metadata": {},
     "output_type": "execute_result"
    }
   ],
   "source": [
    "mtx_E = np.array([[1, 2, 3], [4, 5, 6], [7, 8, 9]]) \n",
    "mtx_F = np.array([[12, 2, 1]])\n",
    "print('Детерминант матрицы равен: ',np.linalg.det(mtx_E))\n",
    "\n",
    "print('Ранк исходной матрицы: ', np.linalg.matrix_rank(mtx_E, 0.0001))\n",
    "print('Ранк расширенной матрицы: ', np.linalg.matrix_rank(np.concatenate((mtx_E, mtx_F.T), axis=1), 0.0001))\n",
    "print('\\n\"2 != 3\" и \"Детерминант равен 0\" => Данная система не имеет ни одного решения.')\n",
    "\n",
    "mtx_F.shape\n",
    "#print(np.linalg.solve(mtx_E, mtx_F))\n",
    "np.linalg.lstsq(mtx_E, mtx_F.T)"
   ]
  },
  {
   "cell_type": "markdown",
   "metadata": {},
   "source": [
    "### Задание 4.\n",
    "**Вычислите LU-разложение матрицы:**  \n",
    "__| 1&nbsp;&nbsp;&nbsp;2&nbsp;&nbsp;&nbsp;3 |  \n",
    "| 2 16 21 |  \n",
    "| 4 28 73 |__  \n",
    "__После этого придумайте вектор правых частей и решите полученную линейную систему трех уравнений с данной матрицей.__"
   ]
  },
  {
   "cell_type": "code",
   "execution_count": null,
   "metadata": {},
   "outputs": [],
   "source": []
  },
  {
   "cell_type": "markdown",
   "metadata": {},
   "source": [
    "### Задание 5.\n",
    "**Найдите нормальное псевдорешение недоопределенной системы:**  \n",
    "__x + 2y – z = 1  \n",
    "8x – 5y + 2z = 12__  \n",
    "__Для этого определите функцию Q(x,y,z), равную норме решения, и найдите ее минимум.__"
   ]
  },
  {
   "cell_type": "code",
   "execution_count": null,
   "metadata": {},
   "outputs": [],
   "source": []
  },
  {
   "cell_type": "markdown",
   "metadata": {},
   "source": [
    "### Задание 6.\n",
    "**Найдите одно из псевдорешений вырожденной системы:**  \n",
    "__| 1 2 3 |&nbsp;&nbsp;&nbsp;&nbsp;&nbsp;&nbsp;&nbsp;&nbsp;&nbsp;&nbsp;| 2|  \n",
    "| 4 5 6 |&nbsp;*&nbsp;X&nbsp;=&nbsp;| 5|  \n",
    "| 7 8 9 |&nbsp;&nbsp;&nbsp;&nbsp;&nbsp;&nbsp;&nbsp;&nbsp;&nbsp;&nbsp;|11|__  \n",
    "__Попробуйте также отыскать и нормальное псевдорешение.__"
   ]
  },
  {
   "cell_type": "code",
   "execution_count": null,
   "metadata": {},
   "outputs": [],
   "source": []
  }
 ],
 "metadata": {
  "kernelspec": {
   "display_name": "Python 3",
   "language": "python",
   "name": "python3"
  },
  "language_info": {
   "codemirror_mode": {
    "name": "ipython",
    "version": 3
   },
   "file_extension": ".py",
   "mimetype": "text/x-python",
   "name": "python",
   "nbconvert_exporter": "python",
   "pygments_lexer": "ipython3",
   "version": "3.7.1"
  }
 },
 "nbformat": 4,
 "nbformat_minor": 2
}
