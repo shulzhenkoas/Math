{
 "cells": [
  {
   "cell_type": "code",
   "execution_count": 89,
   "metadata": {},
   "outputs": [],
   "source": [
    "import numpy as np\n",
    "import matplotlib.pyplot as plt\n",
    "import scipy.linalg\n",
    "from mpl_toolkits.mplot3d import Axes3D\n",
    "\n",
    "%matplotlib inline\n",
    "\n",
    "import warnings\n",
    "warnings.filterwarnings('ignore')"
   ]
  },
  {
   "cell_type": "markdown",
   "metadata": {},
   "source": [
    "### Задание 1.\n",
    "**Решите линейную систему:**  \n",
    "__| 1 2 3 |&nbsp;&nbsp;&nbsp;&nbsp;&nbsp;&nbsp;&nbsp;&nbsp;&nbsp;&nbsp;|12|  \n",
    "| 4 0 6 |&nbsp;*&nbsp;X&nbsp;=&nbsp;| 2|  \n",
    "| 7 8 9 |&nbsp;&nbsp;&nbsp;&nbsp;&nbsp;&nbsp;&nbsp;&nbsp;&nbsp;&nbsp;| 1|__"
   ]
  },
  {
   "cell_type": "code",
   "execution_count": 111,
   "metadata": {},
   "outputs": [
    {
     "name": "stdout",
     "output_type": "stream",
     "text": [
      "59.999999999999986\n",
      "[-9.2         0.9         6.46666667]\n"
     ]
    }
   ],
   "source": [
    "mtx_A = np.array([[1, 2, 3], [4, 0, 6], [7, 8, 9]]) \n",
    "mtx_B = np.array([12, 2, 1])\n",
    "print(np.linalg.det(mtx_A))\n",
    "\n",
    "# В чем сысл детерминанта, что он означает (кроме наличия отсутствия решения)?\n",
    "\n",
    "print(np.linalg.solve(mtx_A, mtx_B))\n",
    "#np.linalg.lstsq(mtx_A, mtx_B)"
   ]
  },
  {
   "cell_type": "markdown",
   "metadata": {},
   "source": [
    "### Задание 2.\n",
    "**Найдите псевдорешение:**  \n",
    "__x + 2y – z = 1  \n",
    "3x – 4y = 7  \n",
    "8x – 5y + 2z = 12  \n",
    "2x – 5z = 7  \n",
    "11x +4y – 7z = 15__"
   ]
  },
  {
   "cell_type": "code",
   "execution_count": 4,
   "metadata": {},
   "outputs": [
    {
     "data": {
      "text/plain": [
       "(array([ 1.13919353, -0.90498444, -0.9009803 ]),\n",
       " array([0.71523211]),\n",
       " 3,\n",
       " array([15.2817306 ,  9.59852942,  3.65197794]))"
      ]
     },
     "execution_count": 4,
     "metadata": {},
     "output_type": "execute_result"
    }
   ],
   "source": [
    "mtx_C = np.array([[1, 2, -1], [3, -4, 0], [8, -5, 2], [2, 0, -5], [11, 4, -7]]) \n",
    "mtx_D = np.array([1, 7, 12, 7, 15])\n",
    "#print(np.linalg.lstsq(mtx_C, mtx_D))\n",
    "np.linalg.lstsq(mtx_C, mtx_D)"
   ]
  },
  {
   "cell_type": "code",
   "execution_count": 6,
   "metadata": {},
   "outputs": [
    {
     "data": {
      "text/plain": [
       "0.7152321111819737"
      ]
     },
     "execution_count": 6,
     "metadata": {},
     "output_type": "execute_result"
    }
   ],
   "source": [
    "# Проверка\n",
    "def Q(x, y, z):\n",
    "    return ((np.linalg.norm(np.dot(mtx_C, [x, y, z]) - mtx_D))**2)\n",
    "Q(1.13919353, -0.90498444, -0.9009803)"
   ]
  },
  {
   "cell_type": "markdown",
   "metadata": {},
   "source": [
    "### Задание 3.\n",
    "**Сколько решений имеет линейная система:**  \n",
    "__| 1 2 3 |&nbsp;&nbsp;&nbsp;&nbsp;&nbsp;&nbsp;&nbsp;&nbsp;&nbsp;&nbsp;|12|  \n",
    "| 4 5 6 |&nbsp;*&nbsp;X&nbsp;=&nbsp;| 2|  \n",
    "| 7 8 9 |&nbsp;&nbsp;&nbsp;&nbsp;&nbsp;&nbsp;&nbsp;&nbsp;&nbsp;&nbsp;| 1|__  \n",
    "__Если ноль – то измените вектор правой части так, чтобы система стала совместной, и решите ее.__"
   ]
  },
  {
   "cell_type": "code",
   "execution_count": 32,
   "metadata": {},
   "outputs": [
    {
     "name": "stdout",
     "output_type": "stream",
     "text": [
      "Детерминант матрицы равен: 6.66133814775094e-16\n",
      "Ранк исходной матрицы: 2\n",
      "Ранк расширенной матрицы: 3\n",
      "\n",
      "\"2 != 3\" и \"Детерминант равен 0\" => Данная система не имеет ни одного решения.\n"
     ]
    },
    {
     "data": {
      "text/plain": [
       "(array([[ 0.83333333,  0.33333333, -0.16666667, -7.69444444],\n",
       "        [ 0.33333333,  0.33333333,  0.33333333, -0.61111111],\n",
       "        [-0.16666667,  0.33333333,  0.83333333,  6.47222222]]),\n",
       " array([], dtype=float64),\n",
       " 2,\n",
       " array([1.68481034e+01, 1.06836951e+00, 4.41842475e-16]))"
      ]
     },
     "execution_count": 32,
     "metadata": {},
     "output_type": "execute_result"
    }
   ],
   "source": [
    "mtx_E = np.array([[1, 2, 3], [4, 5, 6], [7, 8, 9]]) \n",
    "mtx_F = np.array([[12, 2, 1]])\n",
    "mtx_eggs = np.concatenate((mtx_E, mtx_F.T), axis=1)\n",
    "print('Детерминант матрицы равен:',np.linalg.det(mtx_E))\n",
    "\n",
    "print('Ранк исходной матрицы:', np.linalg.matrix_rank(mtx_E, 0.0001))\n",
    "print('Ранк расширенной матрицы:', np.linalg.matrix_rank(mtx_eggs, 0.0001))\n",
    "print('\\n\"2 != 3\" и \"Детерминант равен 0\" => Данная система не имеет ни одного решения.')\n",
    "\n",
    "#print(np.linalg.solve(mtx_E, mtx_eggs))\n",
    "np.linalg.lstsq(mtx_E, mtx_eggs)"
   ]
  },
  {
   "cell_type": "code",
   "execution_count": 30,
   "metadata": {},
   "outputs": [
    {
     "name": "stdout",
     "output_type": "stream",
     "text": [
      "Изменим вектор правой части: [[3 2 1]]\n",
      "Ранк измененной-расширенной матрицы: 2\n",
      "Ранки измененной-расширенной и основной матриц теперь равны. Так как ранк равен 2, а неизвестных 3, то система имеет бесконечное количество решений:\n",
      "[[ 1.          0.5         0.         -9.66666667]\n",
      " [ 0.          0.          0.         15.33333333]\n",
      " [ 0.          0.5         1.         -6.        ]]\n"
     ]
    }
   ],
   "source": [
    "mtx_F = np.array([[3, 2, 1]])\n",
    "print('Изменим вектор правой части:', mtx_F)\n",
    "mtx_eggs = np.concatenate((mtx_E, mtx_F.T), axis=1)\n",
    "print('Ранк измененной-расширенной матрицы:', np.linalg.matrix_rank(mtx_eggs, 0.0001))\n",
    "print('Ранки измененной-расширенной и основной матриц теперь равны. Так как ранк равен 2, а неизвестных 3, то система имеет бесконечное количество решений:')\n",
    "print(np.linalg.solve(mtx_E, mtx_eggs))\n",
    "#np.linalg.lstsq(mtx_E, mtx_eggs)"
   ]
  },
  {
   "cell_type": "markdown",
   "metadata": {},
   "source": [
    "### Задание 4.\n",
    "**Вычислите LU-разложение матрицы:**  \n",
    "__| 1&nbsp;&nbsp;&nbsp;2&nbsp;&nbsp;&nbsp;3 |  \n",
    "| 2 16 21 |  \n",
    "| 4 28 73 |__  \n",
    "__После этого придумайте вектор правых частей и решите полученную линейную систему трех уравнений с данной матрицей.__"
   ]
  },
  {
   "cell_type": "code",
   "execution_count": 83,
   "metadata": {},
   "outputs": [
    {
     "name": "stdout",
     "output_type": "stream",
     "text": [
      "Детерминант матрицы не равен \"0\", значит система имеет одно единственное решение.\n",
      "Ранк исходной матрицы равен 3 , что равно количеству переменных.\n",
      "\n",
      "P =\n",
      " [[0. 1. 0.]\n",
      " [0. 0. 1.]\n",
      " [1. 0. 0.]]\n",
      "L =\n",
      " [[ 1.    0.    0.  ]\n",
      " [ 0.25  1.    0.  ]\n",
      " [ 0.5  -0.4   1.  ]]\n",
      "U =\n",
      " [[  4.    28.    73.  ]\n",
      " [  0.    -5.   -15.25]\n",
      " [  0.     0.   -21.6 ]]\n",
      "\n",
      "Проверка правильности разложения:\n",
      " [[ -2. -12. -52.]\n",
      " [  3.  26.  70.]\n",
      " [ -1. -14. -18.]]\n",
      "\n",
      "Решение системы уравнений при \"B\"\n",
      " [[ 0  3 41]] \n",
      "будет:\n",
      " [-1. -1.  1.]\n"
     ]
    }
   ],
   "source": [
    "A = np.array([ [1, 2, 3], [2, 16, 21], [4, 28, 73] ])\n",
    "B = np.array([[0, 3, 41]])\n",
    "if (np.linalg.det(A) != 0):\n",
    "    print('Детерминант матрицы не равен \"0\", значит система имеет одно единственное решение.')\n",
    "else:\n",
    "    print('Детерминант матрицы равен \"0\", значит система не имеет решений или имеет бесконечное множество решений.')\n",
    "print('Ранк исходной матрицы равен', np.linalg.matrix_rank(A, 0.0001), ', что равно количеству переменных.')\n",
    "print('')\n",
    "P, L, U = scipy.linalg.lu(A)\n",
    "print('P =\\n',P)\n",
    "print('L =\\n', L)\n",
    "print('U =\\n', U)\n",
    "\n",
    "print('\\nПроверка правильности разложения:\\n', np.dot(P, A) - np.dot(L, U))\n",
    "# Почему получичились не нули?\n",
    "\n",
    "print('\\nРешение системы уравнений при \"B\"\\n', B, '\\nбудет:\\n', np.linalg.solve(A, B[0]))"
   ]
  },
  {
   "cell_type": "markdown",
   "metadata": {},
   "source": [
    "### Задание 5.\n",
    "**Найдите нормальное псевдорешение недоопределенной системы:**  \n",
    "__x + 2y – z = 1  \n",
    "8x – 5y + 2z = 12__  \n",
    "__Для этого определите функцию Q(x,y,z), равную норме решения, и найдите ее минимум.__"
   ]
  },
  {
   "cell_type": "code",
   "execution_count": 87,
   "metadata": {},
   "outputs": [
    {
     "data": {
      "text/plain": [
       "(array([ 1.38191882, -0.18081181,  0.0202952 ]),\n",
       " array([], dtype=float64),\n",
       " 2,\n",
       " array([9.65316119, 2.41173777]))"
      ]
     },
     "execution_count": 87,
     "metadata": {},
     "output_type": "execute_result"
    }
   ],
   "source": [
    "mtx_G = np.array([[1, 2, -1], [8, -5, 2]]) \n",
    "mtx_H = np.array([[1, 12]])\n",
    "np.linalg.lstsq(mtx_G, mtx_H[0])"
   ]
  },
  {
   "cell_type": "code",
   "execution_count": 125,
   "metadata": {},
   "outputs": [
    {
     "data": {
      "image/png": "[encoded data removed]",
      "text/plain": [
       "<Figure size 432x288 with 1 Axes>"
      ]
     },
     "metadata": {
      "needs_background": "light"
     },
     "output_type": "display_data"
    }
   ],
   "source": [
    "def Q(x, y, z):\n",
    "    return (x**2 + y**2 + z**2)\n",
    "\n",
    "# Почему эта функция равна норме решения?\n",
    "# В чем ее отличие от np.linalg.norm?\n",
    "# Что такое вообще норма, ее практический смысл?\n",
    "\n",
    "fig = plt.figure()\n",
    "ax = fig.gca(projection='3d')\n",
    "\n",
    "x = np.arange(-1, 2, 0.1)\n",
    "y = np.arange(-1, 1, 0.1)\n",
    "x, y = np.meshgrid(x, y)\n",
    "z = Q(x, y, x + 2*y -1)\n",
    "\n",
    "ax.plot_surface(x, y, z)\n",
    "ax.set_xlabel('X')\n",
    "ax.set_ylabel('Y')\n",
    "ax.set_zlabel('Z')\n",
    "\n",
    "plt.show()"
   ]
  },
  {
   "cell_type": "markdown",
   "metadata": {},
   "source": [
    "### Задание 6.\n",
    "**Найдите одно из псевдорешений вырожденной системы:**  \n",
    "__| 1 2 3 |&nbsp;&nbsp;&nbsp;&nbsp;&nbsp;&nbsp;&nbsp;&nbsp;&nbsp;&nbsp;| 2|  \n",
    "| 4 5 6 |&nbsp;*&nbsp;X&nbsp;=&nbsp;| 5|  \n",
    "| 7 8 9 |&nbsp;&nbsp;&nbsp;&nbsp;&nbsp;&nbsp;&nbsp;&nbsp;&nbsp;&nbsp;|11|__  \n",
    "__Попробуйте также отыскать и нормальное псевдорешение.__"
   ]
  },
  {
   "cell_type": "code",
   "execution_count": 110,
   "metadata": {},
   "outputs": [
    {
     "name": "stdout",
     "output_type": "stream",
     "text": [
      "A =\n",
      " [[1 2 3]\n",
      " [4 5 6]\n",
      " [7 8 9]]\n",
      "B =\n",
      " [[ 2  5 11]]\n"
     ]
    },
    {
     "data": {
      "text/plain": [
       "(array([ 1.25,  0.5 , -0.25]),\n",
       " array([], dtype=float64),\n",
       " 2,\n",
       " array([1.68481034e+01, 1.06836951e+00, 4.41842475e-16]))"
      ]
     },
     "execution_count": 110,
     "metadata": {},
     "output_type": "execute_result"
    }
   ],
   "source": [
    "mtx_I = np.array([[2, 5, 11]]) \n",
    "print('A =\\n', mtx_E)\n",
    "print('B =\\n', mtx_I)\n",
    "np.linalg.lstsq(mtx_E, mtx_I[0])"
   ]
  }
 ],
 "metadata": {
  "kernelspec": {
   "display_name": "Python 3",
   "language": "python",
   "name": "python3"
  },
  "language_info": {
   "codemirror_mode": {
    "name": "ipython",
    "version": 3
   },
   "file_extension": ".py",
   "mimetype": "text/x-python",
   "name": "python",
   "nbconvert_exporter": "python",
   "pygments_lexer": "ipython3",
   "version": "3.7.1"
  }
 },
 "nbformat": 4,
 "nbformat_minor": 2
}
